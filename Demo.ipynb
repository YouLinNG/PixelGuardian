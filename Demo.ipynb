{
  "cells": [
    {
      "cell_type": "code",
      "execution_count": null,
      "metadata": {
        "id": "2b4ZlYhnxMSh"
      },
      "outputs": [],
      "source": [
        "!pip list\n",
        "!pip install --upgrade google-api-python-client\n",
        "!pip install --upgrade google-api-core\n",
        "!pip install --upgrade google-cloud\n",
        "!pip install google-cloud-vision==2.7.1\n",
        "!pip install IPython\n",
        "\n",
        "from os import path\n",
        "import numpy as np\n",
        "import matplotlib.pyplot as plt\n",
        "from skimage import io\n",
        "from skimage.transform import rescale, resize\n",
        "from pyxelate.pyx import Pyx\n",
        "import matplotlib.pyplot as plt\n",
        "import matplotlib.image as mpimg\n",
        "from google.cloud import vision\n",
        "import os"
      ]
    },
    {
      "cell_type": "code",
      "execution_count": 40,
      "metadata": {
        "id": "17LhtoWVyESX"
      },
      "outputs": [],
      "source": [
        "def plot(subplots=[], save_as=None, fig_h=9):\n",
        "    \"\"\"Plotting helper function\"\"\"\n",
        "    fig, ax = plt.subplots(int(np.ceil(len(subplots) / 3)), \n",
        "                           min(3, len(subplots)), \n",
        "                           figsize=(18, fig_h))\n",
        "    if len(subplots) == 1:\n",
        "        ax = [ax]\n",
        "    else:\n",
        "        ax = ax.ravel()\n",
        "    for i, subplot in enumerate(subplots):\n",
        "        if isinstance(subplot, dict):\n",
        "            ax[i].set_title(subplot[\"title\"])\n",
        "            ax[i].imshow(subplot[\"image\"])\n",
        "        else:\n",
        "            ax[i].imshow(subplot)\n",
        "    fig.tight_layout()\n",
        "    plt.show()"
      ]
    },
    {
      "cell_type": "code",
      "execution_count": 41,
      "metadata": {
        "id": "RZItMVAXyHg6"
      },
      "outputs": [],
      "source": [
        "def pixel_image(path):\n",
        "    # detect image using Vision API\n",
        "    if detect_image(path):\n",
        "      image = io.imread(path)  \n",
        "\n",
        "      downsample_by = 14 \n",
        "      palette = 7\n",
        "\n",
        "      # 1) Instantiate Pyx transformer\n",
        "      pyx = Pyx(factor=downsample_by, palette=palette)\n",
        "\n",
        "      # 2) fit an image, allow Pyxelate to learn the color\n",
        "      pyx.fit(image)\n",
        "\n",
        "      # 3) transform image to pixel art using the learned color\n",
        "      new_image = pyx.transform(image)\n",
        "\n",
        "      plot([image, new_image], \"new_image.jpeg\")\n",
        "\n",
        "      io.imsave(\"new_image.jpeg\", new_image)\n",
        "\n",
        "    else :\n",
        "      print('No racy or adult violence!')"
      ]
    },
    {
      "cell_type": "code",
      "execution_count": 42,
      "metadata": {
        "id": "S4cg8Q76yJVe"
      },
      "outputs": [],
      "source": [
        "def detect_image(path):\n",
        "    # Google SafeSearch Detection API detects explicit content such as adult content or violent content within an image. \n",
        "    # This feature uses five categories (adult, spoof, medical, violence, and racy) and returns the likelihood that each is present in a given image\n",
        "    os.environ['GOOGLE_APPLICATION_CREDENTIALS'] = \"My Project-0e5eb54f3bdb.json\"\n",
        "    import io as ios\n",
        "    client = vision.ImageAnnotatorClient()\n",
        "\n",
        "    with ios.open(path, 'rb') as image_file:\n",
        "        content = image_file.read()\n",
        "\n",
        "    image = vision.Image(content=content)\n",
        "\n",
        "    response = client.safe_search_detection(image=image)\n",
        "    safe = response.safe_search_annotation\n",
        "\n",
        "    # Names of likelihood from google.cloud.vision.enums\n",
        "    likelihood_name = ('UNKNOWN', 'VERY_UNLIKELY', 'UNLIKELY', 'POSSIBLE',\n",
        "                       'LIKELY', 'VERY_LIKELY')\n",
        "    # print('Safe search:')\n",
        "\n",
        "    # print('adult: {}'.format(likelihood_name[safe.adult]))\n",
        "    # print('medical: {}'.format(likelihood_name[safe.medical]))\n",
        "    # print('spoofed: {}'.format(likelihood_name[safe.spoof]))\n",
        "    # print('violence: {}'.format(likelihood_name[safe.violence]))\n",
        "    # print('racy: {}'.format(likelihood_name[safe.racy]))\n",
        "\n",
        "    if response.error.message:\n",
        "        raise Exception(\n",
        "            '{}\\nFor more info on error messages, check: '\n",
        "            'https://cloud.google.com/apis/design/errors'.format(\n",
        "                response.error.message))\n",
        "    return safe.adult >=3 or safe.medical >=3 or safe.spoof >=3 or safe.violence >=3 or safe.racy >=3\n"
      ]
    },
    {
      "cell_type": "code",
      "execution_count": 51,
      "metadata": {
        "colab": {
          "base_uri": "https://localhost:8080/"
        },
        "id": "ww8RbLHe-7vk",
        "outputId": "9a79dc8b-0c19-43eb-936a-582188aba904"
      },
      "outputs": [
        {
          "name": "stdout",
          "output_type": "stream",
          "text": [
            "No racy or adult violence!\n"
          ]
        }
      ],
      "source": [
        "if __name__ == \"__main__\":\n",
        "    pixel_image(\"test2.jpeg\")"
      ]
    }
  ],
  "metadata": {
    "accelerator": "GPU",
    "colab": {
      "name": "Demo.ipynb",
      "provenance": []
    },
    "kernelspec": {
      "display_name": "Python 3",
      "name": "python3"
    },
    "language_info": {
      "name": "python"
    }
  },
  "nbformat": 4,
  "nbformat_minor": 0
}
